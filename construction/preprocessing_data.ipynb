{
 "cells": [
  {
   "cell_type": "markdown",
   "metadata": {},
   "source": [
    "## Preprocessing step"
   ]
  },
  {
   "cell_type": "code",
   "execution_count": null,
   "metadata": {},
   "outputs": [],
   "source": [
    "import pandas as pd\n",
    "import numpy as np\n",
    "import random\n",
    "import ast\n",
    "import json\n",
    "import os\n",
    "import sys\n",
    "import spotipy\n",
    "import spotipy.util as util\n",
    "import requests\n",
    "from spotipy import oauth2"
   ]
  },
  {
   "cell_type": "code",
   "execution_count": null,
   "metadata": {},
   "outputs": [],
   "source": [
    "def infos(content = False):   \n",
    "    \n",
    "    if content == False:\n",
    "        global client_id\n",
    "        global client_secret\n",
    "        global redirect_uri\n",
    "        global username\n",
    "        global token\n",
    "        global user_id\n",
    "        global scope\n",
    "        \n",
    "        client_id='client_id'\n",
    "        user_id='user_id' \n",
    "        client_secret='client_secret'\n",
    "        redirect_uri='redirect_uri'\n",
    "        username = 'username'\n",
    "        scope = 'playlist-modify-public user-read-email'\n",
    "\n",
    "        token = util.prompt_for_user_token(username,\n",
    "                                            scope,\n",
    "                                            client_id=client_id,\n",
    "                                            client_secret=client_secret,\n",
    "                                            redirect_uri=redirect_uri)\n",
    "                                       \n",
    "    print('Informações: client_id, user_id, client_secret, redirect_uri, username, scope, token')\n",
    "    \n",
    "# infos()\n"
   ]
  },
  {
   "cell_type": "markdown",
   "metadata": {},
   "source": [
    "### Genre filter"
   ]
  },
  {
   "cell_type": "code",
   "execution_count": null,
   "metadata": {},
   "outputs": [],
   "source": [
    "data_GI = pd.read_csv('spotify_tabular_data.csv',index_col=0)\n",
    "\n",
    "data_GI = data_[['track', 'track_id', 'artist', 'artist_id', 'popularity', 'album',\n",
    "       'album_id', 'track_year', 'duration_ms', 'uri', 'preview_url', 'energy',\n",
    "       'liveness', 'tempo', 'speechiness', 'acousticness', 'instrumentalness',\n",
    "       'time_signature', 'danceability', 'key', 'loudness', 'valence', 'mode']]"
   ]
  },
  {
   "cell_type": "code",
   "execution_count": null,
   "metadata": {},
   "outputs": [],
   "source": [
    "def genre_filter(data_info):\n",
    "    infos()\n",
    "    chaves_ok = ['Falamansa','Rastapé',\n",
    "    'Circuladô de Fulô','Estakazero',\n",
    "    'Trio Virgulino','Trio Nordestino',\n",
    "    'Forróçacana','Bicho de Pé','Trio Forrozão',\n",
    "    'Forrueiros','Raiz do Sana','Chama Chuva',\n",
    "                 \n",
    "    'Luiz Gonzaga', 'Rastapé','Trio Dona Zefa'\n",
    "    ,'Dominguinhos','Santanna \"O cantador\"',\n",
    "    'Trio Pé De Serra', 'Severino Januário', \n",
    "    'Pe de Serra Forro Band']\n",
    "    \n",
    "    \n",
    "    ID_artista = list(data_info.artist_id)\n",
    "\n",
    "    sp = spotipy.Spotify(auth=token)\n",
    "    genres_ok = ['FORRÓ UNIVERSITÁRIO','FORRÓ TRADICIONAL', 'FORRÓ PÉ DE SERRA',\n",
    "                 'FORRO UNIVERSITARIO','FORRO TRADICIONAL', 'FORRO PE DE SERRA']\n",
    "    forro = []\n",
    "\n",
    "    artista_exclude = []\n",
    "    genres_exclude = []\n",
    "\n",
    "\n",
    "\n",
    "    for artista in ID_artista:\n",
    "\n",
    "        artista_info=sp.artist(artista)\n",
    "\n",
    "        if artista_info['name'] in chaves_ok:\n",
    "            forro.append(1.1)\n",
    "        else:\n",
    "            artista_info = sp.artist(artista)\n",
    "            k=0\n",
    "            for genre in artista_info['genres']:\n",
    "                if genre.upper() in genres_ok:\n",
    "                    k+=1\n",
    "            if k==0:\n",
    "                forro.append(0)\n",
    "                artista_exclude.append(artista_info['name'])\n",
    "                genres_exclude.append(artista_info['genres'])\n",
    "\n",
    "                print(\"All \" +artista_info['name']+ \n",
    "                      \" genres are out of scope\"+ \". Genres: \", artista_info['genres'])\n",
    "                print()\n",
    "            else:\n",
    "                forro.append(k/len(artista_info['genres']))\n",
    "                print(artista_info['name'] + ' ok!!!' + \". Genres: \", artista_info['genres'] )\n",
    "\n",
    "    print('Total artists: ',len( list(set(ID_artista))))\n",
    "    print('Excluded artists: ',len( list(set(artista_exclude))))\n",
    "\n",
    "    print('Total songs: ',len(ID_artista))\n",
    "    print('Excluded songs: ',len(artista_exclude))\n",
    "    \n",
    "    \n",
    "    data_info['genre_filt'] = forro\n",
    "\n",
    "    data_filt = data_info[data_info.genre_filt > 0.3]\n",
    "    \n",
    "    return data_filt"
   ]
  },
  {
   "cell_type": "code",
   "execution_count": null,
   "metadata": {
    "tags": []
   },
   "outputs": [],
   "source": [
    "data_filt_genre = genre_filter(data_GI)"
   ]
  },
  {
   "cell_type": "markdown",
   "metadata": {},
   "source": [
    "### Data organization"
   ]
  },
  {
   "cell_type": "code",
   "execution_count": null,
   "metadata": {},
   "outputs": [],
   "source": [
    "data_filt = data_filt_genre.copy() "
   ]
  },
  {
   "cell_type": "code",
   "execution_count": null,
   "metadata": {},
   "outputs": [],
   "source": [
    "data_filt.columns"
   ]
  },
  {
   "cell_type": "code",
   "execution_count": null,
   "metadata": {},
   "outputs": [],
   "source": [
    "min_tempo=81\n",
    "max_tempo = 171\n",
    "\n",
    "\n",
    "div = 10\n",
    "\n",
    "list_tempo = ['[60_81)']\n",
    "\n",
    "values_tempo =[81]\n",
    "temp = 81\n",
    "for i in range(1,10):\n",
    "    \n",
    "    if i==9:\n",
    "        list_tempo.append('[169_213)')\n",
    "    else:\n",
    "        list_tempo.append('['+str(temp)+'_' +str(temp+div+1)+')')\n",
    "        values_tempo.append(temp+div+1)\n",
    "    temp = temp+div+1\n",
    "values_tempo.append(213)   \n",
    "print(list_tempo,values_tempo)\n",
    "\n",
    "data_filt['tempo_bins'] = data_filt['tempo']\n"
   ]
  },
  {
   "cell_type": "code",
   "execution_count": null,
   "metadata": {},
   "outputs": [],
   "source": [
    "lista_BPM =[]\n",
    "lista_BPM_min = []\n",
    "\n",
    "for BPM in data_filt.tempo:\n",
    "    faixa = 0\n",
    "    i=0\n",
    "    for value in values_tempo:\n",
    "        if BPM>=faixa and BPM<value:\n",
    "            lista_BPM.append(list_tempo[i])\n",
    "            lista_BPM_min.append(values_tempo[i])\n",
    "        i+=1\n",
    "        faixa = value \n",
    "data_filt['tempo_bins'] = lista_BPM\n",
    "data_filt['tempo_bins_max'] =lista_BPM_min"
   ]
  },
  {
   "cell_type": "code",
   "execution_count": null,
   "metadata": {},
   "outputs": [],
   "source": [
    "data_filt.popularity = data_filt.popularity*-1 \n",
    "data_filt.genre_filt = data_filt.genre_filt*-1 \n",
    "data_play = data_filt.sort_values(by=['tempo_bins_max','popularity','genre_filt'])\n",
    "data_play.popularity = data_play.popularity*-1 \n",
    "data_play.genre_filt = data_play.genre_filt*-1 \n",
    "data_play=data_play.reset_index(drop=True)"
   ]
  },
  {
   "cell_type": "code",
   "execution_count": null,
   "metadata": {
    "tags": []
   },
   "outputs": [],
   "source": [
    "\n",
    "BPM_count = list(data_play[['tempo_bins_max']].value_counts(sort=False))\n",
    "folds = []\n",
    "valor = random.sample(range(0, 20), 20)\n",
    "j = 0\n",
    "i = 0\n",
    "k = 1\n",
    "for BPM in data_play.tempo_bins_max:\n",
    "    print(k,BPM_count[j])\n",
    "    if k==BPM_count[j]:\n",
    "        print(BPM_count[j])\n",
    "        j+=1\n",
    "        k=0\n",
    "        valor = random.sample(range(0, 20), 20)\n",
    "        \n",
    "    folds.append(valor[i])\n",
    "    \n",
    "    i+=1\n",
    "    if i == 20:\n",
    "        i=0\n",
    "    k+=1\n",
    "\n",
    "data_play['folds'] = folds"
   ]
  },
  {
   "cell_type": "code",
   "execution_count": null,
   "metadata": {
    "tags": []
   },
   "outputs": [],
   "source": [
    "folds = []\n",
    "\n",
    "j = 0\n",
    "i = 0\n",
    "k = 1\n",
    "random.seed(123)\n",
    "valor = random.sample(range(0, 20), 20)\n",
    "for BPM in data_play.tempo_bins_max:\n",
    "    print(k,BPM_count[j])\n",
    "    if k==BPM_count[j]:\n",
    "        \n",
    "        print(BPM_count[j])\n",
    "        j+=1\n",
    "\n",
    "        k=0\n",
    "        \n",
    "    \n",
    "    if k<100:\n",
    "        folds.append(valor[i])\n",
    "        i+=1\n",
    "        if i == 20:\n",
    "            i=0       \n",
    "    else: \n",
    "        folds.append(None)\n",
    "        print(None)\n",
    "    \n",
    "    \n",
    "    k+=1\n",
    "data_fold = data_play.copy()\n",
    "data_fold['folds'] = folds\n",
    "data_fold.dropna(inplace=True)\n",
    "data_fold = data_fold.reset_index(drop=True)"
   ]
  },
  {
   "cell_type": "markdown",
   "metadata": {},
   "source": [
    "### Manual Filter"
   ]
  },
  {
   "cell_type": "markdown",
   "metadata": {},
   "source": [
    "#### Playlists creation "
   ]
  },
  {
   "cell_type": "code",
   "execution_count": null,
   "metadata": {},
   "outputs": [],
   "source": [
    "def criar_playlist(n):\n",
    "\n",
    "    info = [str('Playlist ' +str(n)),'Forroset manual filter']\n",
    "\n",
    "    \n",
    "    \"\"\"Criação de uma nova playlist\"\"\"\n",
    "    request_body = json.dumps({\n",
    "        \"name\": info[0],\n",
    "        \"description\": info[1],\n",
    "        \"public\": True\n",
    "    })\n",
    "\n",
    "    query = \"https://api.spotify.com/v1/users/{}/playlists\".format(\n",
    "        user_id)\n",
    "    response = requests.post(\n",
    "        query,\n",
    "        data=request_body,\n",
    "        headers={\n",
    "            \"Content-Type\": \"application/json\",\n",
    "            \"Authorization\": \"Bearer {}\".format(token)\n",
    "        }\n",
    "    )\n",
    "    response_json = response.json()\n",
    "    \n",
    "    # playlist id\n",
    "    return response_json['id']\n",
    "\n",
    "\n",
    "def add_musicas_id (tracks,playlist_id):\n",
    "        \n",
    "    infos()\n",
    "    sp = spotipy.Spotify(auth=token)\n",
    "    \n",
    "    for track in tracks:\n",
    "        print(track)\n",
    "        result = sp.user_playlist_add_tracks(username, playlist_id, \n",
    "                                                 track)\n",
    "        print(\"Can't get token for\", username)"
   ]
  },
  {
   "cell_type": "code",
   "execution_count": null,
   "metadata": {},
   "outputs": [],
   "source": [
    "teste = False\n",
    "if teste == True:\n",
    "    playlists  = pd.DataFrame()\n",
    "    ids = []\n",
    "    listas = []\n",
    "    for i in range(0,20):\n",
    "        ids.append(criar_playlist(i))\n",
    "        listas.append(i)\n",
    "\n",
    "    playlists[\"Playlist\"]=listas\n",
    "    playlists[\"play_id\"] = ids\n",
    "    playlists.to_csv('manual_filt_playlists_ID.csv')"
   ]
  },
  {
   "cell_type": "code",
   "execution_count": null,
   "metadata": {},
   "outputs": [],
   "source": [
    "playlists = pd.read_csv('manual_filt_playlists_ID.csv',index_col=0)\n",
    "playlists.shape"
   ]
  },
  {
   "cell_type": "markdown",
   "metadata": {},
   "source": [
    "#### Adding songs to playlists"
   ]
  },
  {
   "cell_type": "code",
   "execution_count": null,
   "metadata": {},
   "outputs": [],
   "source": [
    "no = False\n",
    "if no ==True    \n",
    "    for i in range(0,20):    \n",
    "        print(i)\n",
    "\n",
    "        id_play = playlists.iloc[i].play_id\n",
    "        data_part = data_fold[data_fold.playlist.astype(int)==i]\n",
    "        tracks = list(data_part.id)\n",
    "        add_musicas(tracks,id_play)"
   ]
  },
  {
   "cell_type": "markdown",
   "metadata": {},
   "source": [
    "#### Reading playlists after manual evaluation"
   ]
  },
  {
   "cell_type": "code",
   "execution_count": null,
   "metadata": {},
   "outputs": [],
   "source": [
    "def get_id_by_playlist(playlist_id):\n",
    "    infos()\n",
    "    offset = 0\n",
    "    sp = spotipy.Spotify(auth=token)\n",
    "    sp.trace = False\n",
    "    songs = []\n",
    "    ids =[]\n",
    "    \n",
    "    dat = pd.DataFrame()\n",
    "    \n",
    "    for i in range(0,playlists.shape[0]):    \n",
    "        \n",
    "        playlist_id = playlists.iloc[i].play_id\n",
    "        content = sp.user_playlist_tracks(username, playlist_id, fields=None,\n",
    "                                          limit=100, offset=offset, market='BR')\n",
    "        \n",
    "        result = pd.DataFrame(content['items']).copy()\n",
    "#                 \n",
    "        dat = pd.concat([dat,result]).copy()\n",
    "    \n",
    "        print('dat',dat.shape)\n",
    "\n",
    "        \n",
    "            \n",
    "\n",
    "    dat = dat.reset_index(drop=True)    \n",
    "    return dat"
   ]
  },
  {
   "cell_type": "code",
   "execution_count": null,
   "metadata": {},
   "outputs": [],
   "source": [
    "print('Are you sure you want to read data from playlists that were manually rated??')\n",
    "print('Can you guarantee that no more songs were taken down?')\n",
    "x = input()\n",
    "if x=='YES':\n",
    "    playlists = pd.read_csv('manual_filt_playlists_ID.csv',index_col=0)\n",
    "    manual_eval= get_id_by_playlist(playlists)\n",
    "\n",
    "id_musica = []\n",
    "for i in range(0,manual_eval.shape[0]):\n",
    "\n",
    "    valor = manual_eval.track.values[i]    \n",
    "    \n",
    "    id_musica.append(valor['id'])\n",
    "    \n",
    "manual_filt = pd.DataFrame()  \n",
    "manual_filt['track_id'] = id_musica\n",
    "manual_filt[\"manual_filt\"] = list(np.ones(manual_filt.shape[0]))\n",
    "print(manual_filt.shape,manual_filt.manual_filt.sum())\n",
    "manual_filt.head()"
   ]
  },
  {
   "cell_type": "markdown",
   "metadata": {},
   "source": [
    "#### Merging data before and after the manual filter"
   ]
  },
  {
   "cell_type": "code",
   "execution_count": null,
   "metadata": {},
   "outputs": [],
   "source": [
    "print(data_fold.shape)\n",
    "\n",
    "data_manual = pd.DataFrame()  \n",
    "data_manual = data_fold.merge(manual_filt, how='left',on='track_id')\n",
    "data_manual = data_manual.fillna(0)\n",
    "print(data_manual.shape,data_manual.manual_filt.sum())\n",
    "data_manual.head()"
   ]
  },
  {
   "cell_type": "markdown",
   "metadata": {},
   "source": [
    "#### Merging FO data with GI, AF an AA data"
   ]
  },
  {
   "cell_type": "code",
   "execution_count": null,
   "metadata": {},
   "outputs": [],
   "source": [
    "data_GI_AF_AA_FO = data_play.merge(data_manual, how='left',on='track_id')"
   ]
  },
  {
   "cell_type": "code",
   "execution_count": null,
   "metadata": {},
   "outputs": [],
   "source": [
    "data_GI_AF_AA_FO.to_csv('spotify_preprocessing_data.csv')"
   ]
  }
 ],
 "metadata": {
  "kernelspec": {
   "display_name": "Python 3",
   "language": "python",
   "name": "python3"
  },
  "language_info": {
   "codemirror_mode": {
    "name": "ipython",
    "version": 3
   },
   "file_extension": ".py",
   "mimetype": "text/x-python",
   "name": "python",
   "nbconvert_exporter": "python",
   "pygments_lexer": "ipython3",
   "version": "3.7.6"
  }
 },
 "nbformat": 4,
 "nbformat_minor": 4
}
