{
 "cells": [
  {
   "cell_type": "markdown",
   "metadata": {},
   "source": [
    "## Spotify  tabular  data  collection"
   ]
  },
  {
   "cell_type": "code",
   "execution_count": null,
   "metadata": {},
   "outputs": [],
   "source": [
    "import pandas as pd\n",
    "import ast\n",
    "import json\n",
    "import os\n",
    "import sys\n",
    "import spotipy\n",
    "import spotipy.util as util\n",
    "import requests\n",
    "from spotipy import oauth2"
   ]
  },
  {
   "cell_type": "code",
   "execution_count": null,
   "metadata": {},
   "outputs": [],
   "source": [
    "\n",
    "def infos(content = False):   \n",
    "    \n",
    "    if content == False:\n",
    "        global client_id\n",
    "        global client_secret\n",
    "        global redirect_uri\n",
    "        global username\n",
    "        global token\n",
    "        global user_id\n",
    "        global scope\n",
    "        \n",
    "        client_id='b8ff3d65f36e4406a1f297536869ed25'\n",
    "        user_id='70b2fxjh391lur5jysab53kzw' \n",
    "        client_secret='43a0f4024df2424d984893f86801cb92'\n",
    "        redirect_uri='http://localhost:8018/callback'\n",
    "        username = 'Lucas_Paiva'\n",
    "        scope = 'playlist-modify-public user-read-email'\n",
    "        #token = 'BQA6zuo3icYN5xg-TWVJJXm0ePbCcHw6crAyttjiLPI5FDA-u2yacYDU6NTziCHaUL_ncyAUSob9X8WE0rE9U2tHLbnO8G447cMLKpfv9OGmXeJ7Qo4jrR61zHWoc6fHrDtVQ9zk3GEMhMmDZ8OwJXihnYHTFove6CY9G-YuO9i3gNskibVyxPIDppz247vShPIdTFSf7okWIoVKx_l2imFmPaUYR40Lhz2G-v7GaGRtCy5V'\n",
    "\n",
    "\n",
    "        token = util.prompt_for_user_token(username,\n",
    "                                            scope,\n",
    "                                            client_id=client_id,\n",
    "                                            client_secret=client_secret,\n",
    "                                            redirect_uri=redirect_uri)\n",
    "                                       \n",
    "    print('Informações: client_id, user_id, client_secret, redirect_uri, username, scope, token')\n",
    "    \n",
    "# infos()\n"
   ]
  },
  {
   "cell_type": "markdown",
   "metadata": {},
   "source": [
    "### Search from keywords "
   ]
  },
  {
   "cell_type": "code",
   "execution_count": null,
   "metadata": {},
   "outputs": [],
   "source": [
    "def get_musicas (chaves,offset=1000):\n",
    "# artista = genero\n",
    "\n",
    "    infos()\n",
    "    tracks = []\n",
    "    result =[]\n",
    "    numerochaves = len(chaves)\n",
    "\n",
    "    if token:\n",
    "        sp = spotipy.Spotify(auth=token)\n",
    "        sp.trace = False\n",
    "        \n",
    "        \n",
    "        result = sp.search(chaves[0],market='BR',limit=1)\n",
    "        dat = pd.DataFrame(result['tracks']['items']).copy()\n",
    "        for x in range(0, numerochaves):\n",
    "            print(chaves[x])\n",
    "        \n",
    "            for off in range (0,offset,50):\n",
    "                result = sp.search(chaves[x],market='BR',limit=50,offset=off) \n",
    "                \n",
    "                for i, t in enumerate(result['tracks']['items']):\n",
    "                    tracks.append(str(t['id'].strip( 'u' )))\n",
    "                    \n",
    "                result = pd.DataFrame(result['tracks']['items']).copy()\n",
    "                data = pd.concat([dat,result]).copy()\n",
    "                dat=data.copy()\n",
    "            \n",
    "            print('dat',dat.shape)\n",
    "               \n",
    "    \n",
    "    return dat\n",
    "\n"
   ]
  },
  {
   "cell_type": "code",
   "execution_count": null,
   "metadata": {},
   "outputs": [],
   "source": [
    "chaves= ['Falamansa','Rastapé',\n",
    "        'Circuladô de Fulô','Estakazero','Trio Virgulino','Trio Nordestino','Forróçacana',\n",
    "        'Bicho de Pé', 'Trio Forrozão','Forrueiros','Raiz do Sana','Chama Chuva',\n",
    "             \n",
    "        'Luiz Gonzaga', 'Rastapé','Trio Dona Zefa','Severino Januário','Dominguinhos',\n",
    "        'Santanna \"O cantador\"','Trio Pé De Serra',  'Pe de Serra Forro Band',\n",
    "        \n",
    "        'Forró Universitário', 'Forró Pé de Serra','Forró Tradicional', 'Xote', 'Baião'\n",
    "        ]\n",
    "\n",
    "teste=['Trio Virgulino','Forróçacana']\n",
    "\n",
    "data_info = get_musicas()"
   ]
  },
  {
   "cell_type": "markdown",
   "metadata": {},
   "source": [
    "### Data cleaning"
   ]
  },
  {
   "cell_type": "code",
   "execution_count": null,
   "metadata": {},
   "outputs": [],
   "source": [
    "def filtro_base(data_info):\n",
    "    \n",
    "    data_info = data_info.drop_duplicates(subset=['id']) #duplicates ID\n",
    "    data_info = data_info.drop_duplicates(subset=['name']) #duplicates Name\n",
    "    data_info = data_info[data_info['explicit']!=True] #remove explicit\n",
    "    data_info = data_info[data_info['is_playable']==True] #remove no_playable\n",
    "    data_info = data_info.dropna()               #remove NAN\n",
    "    \n",
    "    data_info = data_info.reset_index(drop=True)\n",
    "\n",
    "    return data_info\n",
    "\n"
   ]
  },
  {
   "cell_type": "code",
   "execution_count": null,
   "metadata": {},
   "outputs": [],
   "source": [
    "data_info = filtro_base(data_info)"
   ]
  },
  {
   "cell_type": "markdown",
   "metadata": {},
   "source": [
    "### Getting  GI,  AF  and  AA"
   ]
  },
  {
   "cell_type": "markdown",
   "metadata": {},
   "source": [
    "#### General information data"
   ]
  },
  {
   "cell_type": "code",
   "execution_count": null,
   "metadata": {
    "tags": []
   },
   "outputs": [],
   "source": [
    "def more_info(data_info):\n",
    "    infos()\n",
    "    artistas = data_info.artists.values\n",
    "    nome_artista = []\n",
    "    id_artista = []\n",
    "    \n",
    "    for i in range(0,len(artistas)):\n",
    "        nome_artista.append(artistas[i][0]['name'])\n",
    "        id_artista.append(artistas[i][0]['id'])\n",
    "\n",
    "    # print(nome_artista,id_artista)\n",
    "\n",
    "    data_info['nome_artista'] = nome_artista\n",
    "    data_info['id_artista'] = id_artista\n",
    "\n",
    "\n",
    "    #Inserindo Informações dos albuns\n",
    "    albuns = data_info.album.values\n",
    "    nome_album = []\n",
    "    id_album = []\n",
    "\n",
    "    for i in range(0,len(albuns)):\n",
    "        nome_album.append(albuns[i]['name'])\n",
    "        id_album.append(albuns[i]['id'])\n",
    "\n",
    "    # print(nome_artista,id_artista)\n",
    "\n",
    "    data_info['nome_album'] = nome_album\n",
    "    data_info['id_album'] = id_album\n",
    "    \n",
    "    return data_info"
   ]
  },
  {
   "cell_type": "code",
   "execution_count": null,
   "metadata": {},
   "outputs": [],
   "source": [
    "data_inicio = more_info(data_info)\n",
    "print(data_inicio.shape)\n",
    "data_inicio = data_inicio.rename(columns={'album':'album_data',\"id\":\"track_id\",\n",
    "                \"nome_artista\":'artist',\"id_artista\":\"artist_id\", 'nome_album':'album'\n",
    "                ,\"id_album\": \"album_id\", \"name\": \"track\"})\n",
    "data_inicio.head()"
   ]
  },
  {
   "cell_type": "code",
   "execution_count": null,
   "metadata": {},
   "outputs": [],
   "source": [
    "year = []\n",
    "for j in range (0,data_inicio.shape[0]):\n",
    "    \n",
    "    valor = data_inicio['album_data'].values[j]\n",
    "    valor= ast.literal_eval(valor)\n",
    "    year.append(int(valor['release_date'][0:4]))\n",
    "data_inicio['track_year'] = year"
   ]
  },
  {
   "cell_type": "code",
   "execution_count": null,
   "metadata": {},
   "outputs": [],
   "source": [
    "data_GI = data_inicio[['track','track_id',  'artist', 'artist_id','popularity', 'album','album_id', 'track_year', 'duration_ms',\n",
    "                           'uri','preview_url']]\n",
    "data_GI.head()\n",
    "data_GI.shape"
   ]
  },
  {
   "cell_type": "code",
   "execution_count": null,
   "metadata": {},
   "outputs": [],
   "source": [
    "data_GI.head()"
   ]
  },
  {
   "cell_type": "code",
   "execution_count": null,
   "metadata": {},
   "outputs": [],
   "source": [
    "data_GI.to_csv('general_information_data.csv')"
   ]
  },
  {
   "cell_type": "markdown",
   "metadata": {},
   "source": [
    "#### Audio features data"
   ]
  },
  {
   "cell_type": "code",
   "execution_count": null,
   "metadata": {},
   "outputs": [],
   "source": [
    "def get_features(data_play):\n",
    "\n",
    "    infos()\n",
    "\n",
    "    offset = 0\n",
    "    songs = []\n",
    "    items = []\n",
    "\n",
    "    sp = spotipy.Spotify(auth=token)\n",
    "    ids = list(data_play.track_id)\n",
    "\n",
    "    index = 0\n",
    "    audio_features = []\n",
    "    \n",
    " \n",
    "    while index < len(ids):\n",
    "        audio_features += sp.audio_features(ids[index:index + 50])\n",
    "        index += 50\n",
    "\n",
    "    features_list = []\n",
    "    i=0\n",
    "    \n",
    "    for features in audio_features:\n",
    "        features_list.append([features['id'],features['energy'], features['liveness'],\n",
    "                              features['tempo'], features['speechiness'],\n",
    "                              features['acousticness'], features['instrumentalness'],\n",
    "                              features['time_signature'], features['danceability'],\n",
    "                              features['key'], features['loudness'], features['valence'],\n",
    "                              features['mode']])\n",
    "    \n",
    "    df = pd.DataFrame(features_list, columns=['track_id','energy', 'liveness',\n",
    "                                              'tempo', 'speechiness',\n",
    "                                              'acousticness', 'instrumentalness',\n",
    "                                              'time_signature', 'danceability',\n",
    "                                              'key', 'loudness',\n",
    "                                              'valence', 'mode'])\n",
    "    return df"
   ]
  },
  {
   "cell_type": "code",
   "execution_count": null,
   "metadata": {},
   "outputs": [],
   "source": [
    "data_GI = pd.read_csv('general_information_data.csv',index_col=0)"
   ]
  },
  {
   "cell_type": "code",
   "execution_count": null,
   "metadata": {},
   "outputs": [],
   "source": [
    "data_AF = get_features(data_GI)"
   ]
  },
  {
   "cell_type": "code",
   "execution_count": null,
   "metadata": {},
   "outputs": [],
   "source": [
    "data_AF.to_csv('audio_features_data.csv')"
   ]
  },
  {
   "cell_type": "markdown",
   "metadata": {},
   "source": [
    "#### Audio analysis data"
   ]
  },
  {
   "cell_type": "code",
   "execution_count": null,
   "metadata": {},
   "outputs": [],
   "source": [
    "def get_analises(data_play):\n",
    "\n",
    "    infos()\n",
    "    \n",
    "    ids = data_play.track_id\n",
    "    sp = spotipy.Spotify(auth=token)\n",
    "\n",
    "    index = 0\n",
    "\n",
    "    analises = []\n",
    "    analises_list = []\n",
    "    \n",
    "    print(len(ids))\n",
    "    \n",
    "    while index <len(ids):\n",
    "        analises = sp.audio_analysis(ids[index])\n",
    "        analises_list.append([ids[index],analises['bars'],analises['beats'],analises['tatums']])\n",
    "        index +=1\n",
    "        if index%100 ==0:\n",
    "            infos()\n",
    "            sp = spotipy.Spotify(auth=token)\n",
    "            print(index)\n",
    "    \n",
    "    df = pd.DataFrame(analises_list, columns=['track_id','bars','beats','tatums'])#,'bars_anot','beats_anot','tatums_anot'\n",
    "    return df"
   ]
  },
  {
   "cell_type": "code",
   "execution_count": null,
   "metadata": {},
   "outputs": [],
   "source": [
    "data_GI = pd.read_csv('general_information_data.csv',index_col=0)"
   ]
  },
  {
   "cell_type": "code",
   "execution_count": null,
   "metadata": {
    "tags": []
   },
   "outputs": [],
   "source": [
    "data_AA = get_analises(data_GI)"
   ]
  },
  {
   "cell_type": "code",
   "execution_count": null,
   "metadata": {},
   "outputs": [],
   "source": [
    "data_AA.to_csv('audio_analysis_data.csv')"
   ]
  },
  {
   "cell_type": "markdown",
   "metadata": {},
   "source": [
    "#### Merging all Spotify data"
   ]
  },
  {
   "cell_type": "code",
   "execution_count": null,
   "metadata": {},
   "outputs": [],
   "source": [
    "data_GI_AF = data_GI.merge(data_AF, how='left',on='track_id')\n",
    "data_GI_AF_AA = data_GI_AF .merge(data_AA, how='left',on='track_id')"
   ]
  },
  {
   "cell_type": "code",
   "execution_count": null,
   "metadata": {},
   "outputs": [],
   "source": [
    "data_GI_AF_AA.columns"
   ]
  },
  {
   "cell_type": "code",
   "execution_count": null,
   "metadata": {},
   "outputs": [],
   "source": [
    "data_GI_AF_AA .to_csv('spotify_tabular_data.csv')"
   ]
  }
 ],
 "metadata": {
  "kernelspec": {
   "display_name": "Python 3",
   "language": "python",
   "name": "python3"
  },
  "language_info": {
   "codemirror_mode": {
    "name": "ipython",
    "version": 3
   },
   "file_extension": ".py",
   "mimetype": "text/x-python",
   "name": "python",
   "nbconvert_exporter": "python",
   "pygments_lexer": "ipython3",
   "version": "3.7.6"
  }
 },
 "nbformat": 4,
 "nbformat_minor": 4
}
