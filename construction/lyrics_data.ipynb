{
 "cells": [
  {
   "cell_type": "markdown",
   "metadata": {},
   "source": [
    "## Lyrics data"
   ]
  },
  {
   "cell_type": "code",
   "execution_count": null,
   "metadata": {},
   "outputs": [],
   "source": [
    "from vagalume import lyrics\n",
    "import pandas as pd\n",
    "import difflib as di\n",
    "import time"
   ]
  },
  {
   "cell_type": "code",
   "execution_count": null,
   "metadata": {},
   "outputs": [],
   "source": [
    "data_GI_AF_AA_FO = pd.read_csv('preprocessing_data.csv',index_col=0)"
   ]
  },
  {
   "cell_type": "markdown",
   "metadata": {},
   "source": [
    "### Lyrics search"
   ]
  },
  {
   "cell_type": "code",
   "execution_count": null,
   "metadata": {},
   "outputs": [],
   "source": [
    "artistas = data_GI_AF_AA_FO[['artist']].values \n",
    "musica = data_GI_AF_AA_FO[['track']].values\n",
    "\n",
    "letra = []\n",
    "list_error = []\n",
    "similarity = []\n",
    "k=0\n",
    "j=0\n",
    "for i in range(0,len(artistas)): \n",
    "    time.sleep(2)\n",
    "    if i%50 ==0:\n",
    "        print(\"Waiting a little\")\n",
    "        print(\"Lyrics searched: \", i)\n",
    "        print(\"Downloaded lyrics: \", k)\n",
    "        time.sleep(5)\n",
    "        \n",
    "    artist_name = artistas[i][0]\n",
    "    song_name = musica[i][0]\n",
    "    print(artist_name,song_name)\n",
    "    \n",
    "    try:\n",
    "        result = lyrics.find(artist_name, song_name)\n",
    "        if result.is_not_found():\n",
    "            letra.append(None)\n",
    "            similarity.append(None)\n",
    "        else:\n",
    "            s_artist = di.SequenceMatcher(None, artist_name.upper(), result.artist.name.upper()).ratio()\n",
    "            s_name = di.SequenceMatcher(None, song_name.upper(), result.song.name.upper()).ratio()\n",
    "            similarity.append({'name_similarity':s_name, 'artist_similarity':s_artist})\n",
    "            print(s_name,song_name.upper(), result.song.name.upper())\n",
    "            letra.append([result.song.name, result.artist.name,result.song.lyric])\n",
    "            k+=1\n",
    "            \n",
    "    except:\n",
    "        letra.append(None)\n",
    "        similarity.append(None)\n",
    "        time.sleep(5)\n",
    "#         "
   ]
  },
  {
   "cell_type": "code",
   "execution_count": null,
   "metadata": {},
   "outputs": [],
   "source": [
    "data_GI_AF_AA_FO_L = data_GI_AF_AA_FO.copy()\n",
    "if len(letra)== len(artistas):\n",
    "    data_GI_AF_AA_FO_L['lyrics'] = letra\n",
    "    data_GI_AF_AA_FO_L['lyrics_confidence'] = similarity"
   ]
  },
  {
   "cell_type": "markdown",
   "metadata": {},
   "source": [
    "### Similarity filter"
   ]
  },
  {
   "cell_type": "code",
   "execution_count": null,
   "metadata": {},
   "outputs": [],
   "source": [
    "count =data_GI_AF_AA_FO_L['lyrics'].value_counts()\n",
    "err=0\n",
    "exclude=0\n",
    "for i in range(0,len(letra)):\n",
    "    if data_GI_AF_AA_FO_L['lyrics_confidence'][i] != None:\n",
    "        if data_GI_AF_AA_FO_L['lyrics_confidence'][i]['name_similarity']<0.9:\n",
    "             \n",
    "            track_name = data_GI_AF_AA_FO_L['track'][i].upper()\n",
    "\n",
    "            track_name = track_name.replace(\"AO VIVO\", \"\")\n",
    "            \n",
    "            new_similarity = di.SequenceMatcher(None, track_name, data_GI_AF_AA_FO_L['lyrics'][i][0].upper()).ratio()\n",
    "           \n",
    "            if new_similarity <0.9:\n",
    "                print('Spotify','      |      ','Vagalume')\n",
    "                print()\n",
    "                print(data_GI_AF_AA_FO_L['artist'][i],'  |  ', data_GI_AF_AA_FO_L['lyrics'][i][1])\n",
    "                print(data_GI_AF_AA_FO_L['track'][i],'  |  ', data_GI_AF_AA_FO_L['lyrics'][i][0])\n",
    "                print(similarity[i])\n",
    "                print()\n",
    "                print(\"Do you want to get rid of this lyric?\")\n",
    "                apagar = input()\n",
    "                if apagar == \"yes\":\n",
    "                    data_GI_AF_AA_FO_L['lyrics'][i]=None\n",
    "                    data_GI_AF_AA_FO_L['lyrics_confidence'][i]=None\n",
    "                    print('The lyrics of this track were successfully deleted.')\n",
    "                    exclude+=1                    \n",
    "                err+=1\n",
    "                print()\n",
    "                print()"
   ]
  },
  {
   "cell_type": "code",
   "execution_count": null,
   "metadata": {},
   "outputs": [],
   "source": [
    "data_GI_AF_AA_FO_L.to_csv('lyrics_preprocessing_spotify_data.csv')"
   ]
  }
 ],
 "metadata": {
  "kernelspec": {
   "display_name": "Python 3",
   "language": "python",
   "name": "python3"
  },
  "language_info": {
   "codemirror_mode": {
    "name": "ipython",
    "version": 3
   },
   "file_extension": ".py",
   "mimetype": "text/x-python",
   "name": "python",
   "nbconvert_exporter": "python",
   "pygments_lexer": "ipython3",
   "version": "3.7.6"
  }
 },
 "nbformat": 4,
 "nbformat_minor": 4
}
