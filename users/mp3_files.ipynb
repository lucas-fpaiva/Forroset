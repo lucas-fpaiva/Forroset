{
  "cells": [
    {
      "cell_type": "code",
      "execution_count": 5,
      "metadata": {
        "id": "BdSemAkk88Nr"
      },
      "outputs": [],
      "source": [
        "def getMusics(forroset, mp3folder):\n",
        "  \"\"\" Downloads the mp3 files provided by Spotify\n",
        "      * forroset: path to the location of the forroset file(string)\n",
        "      * mp3folder: destination folder path for downloaded files(string)\n",
        "  \"\"\"\n",
        "  ## Importing Required Libraries\n",
        "  import requests\n",
        "  import urllib.request\n",
        "  import re\n",
        "  from bs4 import BeautifulSoup\n",
        "  import pandas as pd\n",
        "  from time import sleep\n",
        "  import os\n",
        "  ## Accessing dataset\n",
        "  forroset = pd.read_csv(forroset)\n",
        "  ## Listing identifiers\n",
        "  ids = forroset['track_id']\n",
        "  ## Checking if there are songs in the directory\n",
        "  mp3_files = os.listdir(mp3folder)\n",
        "  downloaded_musics = []\n",
        "  undownloaded = []\n",
        "  for element in mp3_files:\n",
        "    downloaded_musics.append(element.split(\".\")[0])\n",
        "  for music in ids:\n",
        "    if music not in downloaded_musics:\n",
        "      undownloaded.append(music)\n",
        "  ## Downloading songs\n",
        "  for i in range(len(undownloaded)):\n",
        "    try:\n",
        "      r = requests.get(forroset.loc[ids == undownloaded[i]].preview_url.tolist()[0])\n",
        "      sleep(0.5)\n",
        "      soup = BeautifulSoup(r.content, 'html.parser')\n",
        "      with open((mp3folder+'/{}.mp3').format(undownloaded[i]), 'wb') as f:\n",
        "          f.write(r.content)\n",
        "    except:\n",
        "      pass\n",
        "  ## Checking which songs have not been downloaded\n",
        "  undownloaded_dict ={}\n",
        "  mp3_files = os.listdir(mp3folder)\n",
        "  for element in mp3_files:\n",
        "    downloaded_musics.append(element.split(\".\")[0])\n",
        "  for music in ids:\n",
        "    if music not in downloaded_musics:\n",
        "      undownloaded_dict[music] = forroset.loc[ids == music].preview_url.tolist()[0]\n",
        "  keys = undownloaded_dict.keys()\n",
        "  ## Print music list to be downloaded manually\n",
        "  print(\"List of not downloaded songs\")\n",
        "  c = 0\n",
        "  for key in undownloaded_dict.keys():\n",
        "    c+=1\n",
        "    print(\"{} --- Link: {} --- Identifier: {}\".format(c, undownloaded_dict[key], key))"
      ]
    }
  ],
  "metadata": {
    "colab": {
      "collapsed_sections": [],
      "name": "mp3_files.ipynb",
      "provenance": []
    },
    "kernelspec": {
      "display_name": "Python 3",
      "name": "python3"
    },
    "language_info": {
      "name": "python"
    }
  },
  "nbformat": 4,
  "nbformat_minor": 0
}
