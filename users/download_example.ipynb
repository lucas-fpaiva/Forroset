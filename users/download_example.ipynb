{
  "nbformat": 4,
  "nbformat_minor": 0,
  "metadata": {
    "colab": {
      "name": "download_example.ipynb",
      "provenance": []
    },
    "kernelspec": {
      "name": "python3",
      "display_name": "Python 3"
    },
    "language_info": {
      "name": "python"
    }
  },
  "cells": [
    {
      "cell_type": "code",
      "execution_count": null,
      "metadata": {
        "id": "8HBJBo_TwW8a"
      },
      "outputs": [],
      "source": [
        "from getmusics import getMusics\n",
        "getMusics(forroset_path, mp3folder_path)"
      ]
    }
  ]
}