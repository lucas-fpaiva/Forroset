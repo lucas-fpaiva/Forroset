{
  "nbformat": 4,
  "nbformat_minor": 0,
  "metadata": {
    "colab": {
      "name": "data_inputation.ipynb",
      "provenance": [],
      "authorship_tag": "ABX9TyM0og5KIvgHse/JmoQFPGSi",
      "include_colab_link": true
    },
    "kernelspec": {
      "name": "python3",
      "display_name": "Python 3"
    },
    "language_info": {
      "name": "python"
    }
  },
  "cells": [
    {
      "cell_type": "markdown",
      "metadata": {
        "id": "view-in-github",
        "colab_type": "text"
      },
      "source": [
        "<a href=\"https://colab.research.google.com/github/lucas-fpaiva/Forroset/blob/main/data_inputation.ipynb\" target=\"_parent\"><img src=\"https://colab.research.google.com/assets/colab-badge.svg\" alt=\"Open In Colab\"/></a>"
      ]
    },
    {
      "cell_type": "code",
      "source": [
        "!pip install autoimpute"
      ],
      "metadata": {
        "colab": {
          "base_uri": "https://localhost:8080/"
        },
        "id": "L_u2mErZk2gh",
        "outputId": "3a10099b-c910-457b-c39a-0979f1372ef5"
      },
      "execution_count": null,
      "outputs": [
        {
          "output_type": "stream",
          "name": "stdout",
          "text": [
            "Looking in indexes: https://pypi.org/simple, https://us-python.pkg.dev/colab-wheels/public/simple/\n",
            "Collecting autoimpute\n",
            "  Downloading autoimpute-0.12.3-py3-none-any.whl (97 kB)\n",
            "\u001b[K     |████████████████████████████████| 97 kB 2.1 MB/s \n",
            "\u001b[?25hRequirement already satisfied: statsmodels in /usr/local/lib/python3.7/dist-packages (from autoimpute) (0.10.2)\n",
            "Requirement already satisfied: seaborn in /usr/local/lib/python3.7/dist-packages (from autoimpute) (0.11.2)\n",
            "Requirement already satisfied: pandas in /usr/local/lib/python3.7/dist-packages (from autoimpute) (1.3.5)\n",
            "Requirement already satisfied: scipy in /usr/local/lib/python3.7/dist-packages (from autoimpute) (1.4.1)\n",
            "Requirement already satisfied: missingno in /usr/local/lib/python3.7/dist-packages (from autoimpute) (0.5.1)\n",
            "Requirement already satisfied: numpy in /usr/local/lib/python3.7/dist-packages (from autoimpute) (1.21.6)\n",
            "Requirement already satisfied: pymc3 in /usr/local/lib/python3.7/dist-packages (from autoimpute) (3.11.4)\n",
            "Requirement already satisfied: scikit-learn in /usr/local/lib/python3.7/dist-packages (from autoimpute) (1.0.2)\n",
            "Requirement already satisfied: xgboost in /usr/local/lib/python3.7/dist-packages (from autoimpute) (0.90)\n",
            "Requirement already satisfied: matplotlib in /usr/local/lib/python3.7/dist-packages (from missingno->autoimpute) (3.2.2)\n",
            "Requirement already satisfied: pyparsing!=2.0.4,!=2.1.2,!=2.1.6,>=2.0.1 in /usr/local/lib/python3.7/dist-packages (from matplotlib->missingno->autoimpute) (3.0.9)\n",
            "Requirement already satisfied: cycler>=0.10 in /usr/local/lib/python3.7/dist-packages (from matplotlib->missingno->autoimpute) (0.11.0)\n",
            "Requirement already satisfied: python-dateutil>=2.1 in /usr/local/lib/python3.7/dist-packages (from matplotlib->missingno->autoimpute) (2.8.2)\n",
            "Requirement already satisfied: kiwisolver>=1.0.1 in /usr/local/lib/python3.7/dist-packages (from matplotlib->missingno->autoimpute) (1.4.2)\n",
            "Requirement already satisfied: typing-extensions in /usr/local/lib/python3.7/dist-packages (from kiwisolver>=1.0.1->matplotlib->missingno->autoimpute) (4.2.0)\n",
            "Requirement already satisfied: six>=1.5 in /usr/local/lib/python3.7/dist-packages (from python-dateutil>=2.1->matplotlib->missingno->autoimpute) (1.15.0)\n",
            "Requirement already satisfied: pytz>=2017.3 in /usr/local/lib/python3.7/dist-packages (from pandas->autoimpute) (2022.1)\n",
            "Requirement already satisfied: theano-pymc==1.1.2 in /usr/local/lib/python3.7/dist-packages (from pymc3->autoimpute) (1.1.2)\n",
            "Requirement already satisfied: fastprogress>=0.2.0 in /usr/local/lib/python3.7/dist-packages (from pymc3->autoimpute) (1.0.2)\n",
            "Requirement already satisfied: cachetools>=4.2.1 in /usr/local/lib/python3.7/dist-packages (from pymc3->autoimpute) (4.2.4)\n",
            "Requirement already satisfied: arviz>=0.11.0 in /usr/local/lib/python3.7/dist-packages (from pymc3->autoimpute) (0.12.1)\n",
            "Requirement already satisfied: semver>=2.13.0 in /usr/local/lib/python3.7/dist-packages (from pymc3->autoimpute) (2.13.0)\n",
            "Requirement already satisfied: dill in /usr/local/lib/python3.7/dist-packages (from pymc3->autoimpute) (0.3.5.1)\n",
            "Requirement already satisfied: patsy>=0.5.1 in /usr/local/lib/python3.7/dist-packages (from pymc3->autoimpute) (0.5.2)\n",
            "Requirement already satisfied: filelock in /usr/local/lib/python3.7/dist-packages (from theano-pymc==1.1.2->pymc3->autoimpute) (3.7.0)\n",
            "Requirement already satisfied: netcdf4 in /usr/local/lib/python3.7/dist-packages (from arviz>=0.11.0->pymc3->autoimpute) (1.5.8)\n",
            "Requirement already satisfied: xarray-einstats>=0.2 in /usr/local/lib/python3.7/dist-packages (from arviz>=0.11.0->pymc3->autoimpute) (0.2.2)\n",
            "Requirement already satisfied: packaging in /usr/local/lib/python3.7/dist-packages (from arviz>=0.11.0->pymc3->autoimpute) (21.3)\n",
            "Requirement already satisfied: xarray>=0.16.1 in /usr/local/lib/python3.7/dist-packages (from arviz>=0.11.0->pymc3->autoimpute) (0.20.2)\n",
            "Requirement already satisfied: setuptools>=38.4 in /usr/local/lib/python3.7/dist-packages (from arviz>=0.11.0->pymc3->autoimpute) (57.4.0)\n",
            "Requirement already satisfied: importlib-metadata in /usr/local/lib/python3.7/dist-packages (from xarray>=0.16.1->arviz>=0.11.0->pymc3->autoimpute) (4.11.4)\n",
            "Requirement already satisfied: zipp>=0.5 in /usr/local/lib/python3.7/dist-packages (from importlib-metadata->xarray>=0.16.1->arviz>=0.11.0->pymc3->autoimpute) (3.8.0)\n",
            "Requirement already satisfied: cftime in /usr/local/lib/python3.7/dist-packages (from netcdf4->arviz>=0.11.0->pymc3->autoimpute) (1.6.0)\n",
            "Requirement already satisfied: threadpoolctl>=2.0.0 in /usr/local/lib/python3.7/dist-packages (from scikit-learn->autoimpute) (3.1.0)\n",
            "Requirement already satisfied: joblib>=0.11 in /usr/local/lib/python3.7/dist-packages (from scikit-learn->autoimpute) (1.1.0)\n",
            "Installing collected packages: autoimpute\n",
            "Successfully installed autoimpute-0.12.3\n"
          ]
        }
      ]
    },
    {
      "cell_type": "code",
      "source": [
        "!pip install git+git://github.com/Hvass-Labs/scikit-optimize.git@dd7433da068b5a2509ef4ea4e5195458393e6555"
      ],
      "metadata": {
        "colab": {
          "base_uri": "https://localhost:8080/"
        },
        "id": "tRttMPw2_rq_",
        "outputId": "c8989eca-1d86-4454-9128-b9e10f49ca96"
      },
      "execution_count": 15,
      "outputs": [
        {
          "output_type": "stream",
          "name": "stdout",
          "text": [
            "Looking in indexes: https://pypi.org/simple, https://us-python.pkg.dev/colab-wheels/public/simple/\n",
            "Collecting git+git://github.com/Hvass-Labs/scikit-optimize.git@dd7433da068b5a2509ef4ea4e5195458393e6555\n",
            "  Cloning git://github.com/Hvass-Labs/scikit-optimize.git (to revision dd7433da068b5a2509ef4ea4e5195458393e6555) to /tmp/pip-req-build-d70k9bbi\n",
            "  Running command git clone -q git://github.com/Hvass-Labs/scikit-optimize.git /tmp/pip-req-build-d70k9bbi\n",
            "  fatal: unable to connect to github.com:\n",
            "  github.com[0: 192.30.255.113]: errno=Connection timed out\n",
            "\n",
            "\u001b[33mWARNING: Discarding git+git://github.com/Hvass-Labs/scikit-optimize.git@dd7433da068b5a2509ef4ea4e5195458393e6555. Command errored out with exit status 128: git clone -q git://github.com/Hvass-Labs/scikit-optimize.git /tmp/pip-req-build-d70k9bbi Check the logs for full command output.\u001b[0m\n",
            "\u001b[31mERROR: Command errored out with exit status 128: git clone -q git://github.com/Hvass-Labs/scikit-optimize.git /tmp/pip-req-build-d70k9bbi Check the logs for full command output.\u001b[0m\n"
          ]
        }
      ]
    },
    {
      "cell_type": "code",
      "execution_count": null,
      "metadata": {
        "id": "8oTfpK4Qkc2y"
      },
      "outputs": [],
      "source": [
        "#analisis\n",
        "import numpy as np\n",
        "import pandas as pd\n",
        "from sklearn.cluster import KMeans\n",
        "from sklearn.metrics import silhouette_samples, silhouette_score\n",
        "from yellowbrick.cluster import KElbowVisualizer, SilhouetteVisualizer\n",
        "from scipy import stats\n",
        "from scipy.stats import ttest_ind\n",
        "from scipy.stats import mannwhitneyu\n",
        "from scipy.stats import bartlett\n",
        "\n",
        "\n",
        "#visualization\n",
        "import matplotlib.pyplot as plt\n",
        "import matplotlib.cm as cm\n",
        "import seaborn as sns\n",
        "from pandas.plotting import radviz\n",
        "import matplotlib.gridspec as gridspec\n",
        "\n",
        "\n",
        "#data imputation\n",
        "from autoimpute.imputations import SingleImputer, MultipleImputer, MiceImputer\n"
      ]
    },
    {
      "cell_type": "code",
      "source": [
        "! git clone https://github.com/lucas-fpaiva/matopiba_emissions.git"
      ],
      "metadata": {
        "colab": {
          "base_uri": "https://localhost:8080/"
        },
        "id": "8Lk1uj38kx6-",
        "outputId": "8a9e0962-7c40-4395-dd27-5a03b29fe4db"
      },
      "execution_count": null,
      "outputs": [
        {
          "output_type": "stream",
          "name": "stdout",
          "text": [
            "Cloning into 'matopiba_emissions'...\n",
            "remote: Enumerating objects: 100, done.\u001b[K\n",
            "remote: Counting objects: 100% (100/100), done.\u001b[K\n",
            "remote: Compressing objects: 100% (96/96), done.\u001b[K\n",
            "remote: Total 100 (delta 35), reused 0 (delta 0), pack-reused 0\u001b[K\n",
            "Receiving objects: 100% (100/100), 3.47 MiB | 7.34 MiB/s, done.\n",
            "Resolving deltas: 100% (35/35), done.\n"
          ]
        }
      ]
    },
    {
      "cell_type": "code",
      "source": [
        "df = pd.read_csv('/content/matopiba_emissions/data/data.csv',\n",
        "              error_bad_lines=False, encoding='latin-1',sep=';')\n",
        "df['emi_energy_2018']=pd.to_numeric(df['emi_energy_2018'],errors='coerce')\n",
        "\n",
        "data=df[['emi_agri_2018', 'emi_luc_2018', 'emi_energy_2018', 'emi_waste_2018', \n",
        "        'pib_2018']]\n",
        "\n",
        "data['population'] = 1000*df['pib_2018']/df['pib_percapta_2018']\n",
        "data['population']= data['population'].astype(int)\n",
        "data.shape\n",
        "\n",
        "data_na=data[['emi_agri_2018', \n",
        "       'emi_luc_2018', 'emi_energy_2018', 'emi_waste_2018', \n",
        "        'pib_2018','population']]"
      ],
      "metadata": {
        "id": "sigW5viCmDQl",
        "colab": {
          "base_uri": "https://localhost:8080/"
        },
        "outputId": "1ffc57d4-b3c1-44ab-d4bf-117547802204"
      },
      "execution_count": 12,
      "outputs": [
        {
          "output_type": "stream",
          "name": "stderr",
          "text": [
            "/usr/local/lib/python3.7/dist-packages/IPython/core/interactiveshell.py:2882: FutureWarning: The error_bad_lines argument has been deprecated and will be removed in a future version.\n",
            "\n",
            "\n",
            "  exec(code_obj, self.user_global_ns, self.user_ns)\n",
            "/usr/local/lib/python3.7/dist-packages/ipykernel_launcher.py:8: SettingWithCopyWarning: \n",
            "A value is trying to be set on a copy of a slice from a DataFrame.\n",
            "Try using .loc[row_indexer,col_indexer] = value instead\n",
            "\n",
            "See the caveats in the documentation: https://pandas.pydata.org/pandas-docs/stable/user_guide/indexing.html#returning-a-view-versus-a-copy\n",
            "  \n",
            "/usr/local/lib/python3.7/dist-packages/ipykernel_launcher.py:9: SettingWithCopyWarning: \n",
            "A value is trying to be set on a copy of a slice from a DataFrame.\n",
            "Try using .loc[row_indexer,col_indexer] = value instead\n",
            "\n",
            "See the caveats in the documentation: https://pandas.pydata.org/pandas-docs/stable/user_guide/indexing.html#returning-a-view-versus-a-copy\n",
            "  if __name__ == '__main__':\n"
          ]
        }
      ]
    },
    {
      "cell_type": "code",
      "source": [
        "data_na.corr()"
      ],
      "metadata": {
        "id": "vXDNuRLymhNa",
        "colab": {
          "base_uri": "https://localhost:8080/",
          "height": 238
        },
        "outputId": "262b4fe8-d3b8-48ac-9195-9faca26caf26"
      },
      "execution_count": 13,
      "outputs": [
        {
          "output_type": "execute_result",
          "data": {
            "text/plain": [
              "                 emi_agri_2018  emi_luc_2018  emi_energy_2018  emi_waste_2018  \\\n",
              "emi_agri_2018         1.000000      0.666057         0.073040        0.180690   \n",
              "emi_luc_2018          0.666057      1.000000         0.090117        0.139326   \n",
              "emi_energy_2018       0.073040      0.090117         1.000000        0.272904   \n",
              "emi_waste_2018        0.180690      0.139326         0.272904        1.000000   \n",
              "pib_2018              0.308946      0.276183         0.400189        0.762350   \n",
              "population            0.218735      0.258067         0.253730        0.824904   \n",
              "\n",
              "                 pib_2018  population  \n",
              "emi_agri_2018    0.308946    0.218735  \n",
              "emi_luc_2018     0.276183    0.258067  \n",
              "emi_energy_2018  0.400189    0.253730  \n",
              "emi_waste_2018   0.762350    0.824904  \n",
              "pib_2018         1.000000    0.832547  \n",
              "population       0.832547    1.000000  "
            ],
            "text/html": [
              "\n",
              "  <div id=\"df-6233b642-869d-48c2-a651-a2b034dd231c\">\n",
              "    <div class=\"colab-df-container\">\n",
              "      <div>\n",
              "<style scoped>\n",
              "    .dataframe tbody tr th:only-of-type {\n",
              "        vertical-align: middle;\n",
              "    }\n",
              "\n",
              "    .dataframe tbody tr th {\n",
              "        vertical-align: top;\n",
              "    }\n",
              "\n",
              "    .dataframe thead th {\n",
              "        text-align: right;\n",
              "    }\n",
              "</style>\n",
              "<table border=\"1\" class=\"dataframe\">\n",
              "  <thead>\n",
              "    <tr style=\"text-align: right;\">\n",
              "      <th></th>\n",
              "      <th>emi_agri_2018</th>\n",
              "      <th>emi_luc_2018</th>\n",
              "      <th>emi_energy_2018</th>\n",
              "      <th>emi_waste_2018</th>\n",
              "      <th>pib_2018</th>\n",
              "      <th>population</th>\n",
              "    </tr>\n",
              "  </thead>\n",
              "  <tbody>\n",
              "    <tr>\n",
              "      <th>emi_agri_2018</th>\n",
              "      <td>1.000000</td>\n",
              "      <td>0.666057</td>\n",
              "      <td>0.073040</td>\n",
              "      <td>0.180690</td>\n",
              "      <td>0.308946</td>\n",
              "      <td>0.218735</td>\n",
              "    </tr>\n",
              "    <tr>\n",
              "      <th>emi_luc_2018</th>\n",
              "      <td>0.666057</td>\n",
              "      <td>1.000000</td>\n",
              "      <td>0.090117</td>\n",
              "      <td>0.139326</td>\n",
              "      <td>0.276183</td>\n",
              "      <td>0.258067</td>\n",
              "    </tr>\n",
              "    <tr>\n",
              "      <th>emi_energy_2018</th>\n",
              "      <td>0.073040</td>\n",
              "      <td>0.090117</td>\n",
              "      <td>1.000000</td>\n",
              "      <td>0.272904</td>\n",
              "      <td>0.400189</td>\n",
              "      <td>0.253730</td>\n",
              "    </tr>\n",
              "    <tr>\n",
              "      <th>emi_waste_2018</th>\n",
              "      <td>0.180690</td>\n",
              "      <td>0.139326</td>\n",
              "      <td>0.272904</td>\n",
              "      <td>1.000000</td>\n",
              "      <td>0.762350</td>\n",
              "      <td>0.824904</td>\n",
              "    </tr>\n",
              "    <tr>\n",
              "      <th>pib_2018</th>\n",
              "      <td>0.308946</td>\n",
              "      <td>0.276183</td>\n",
              "      <td>0.400189</td>\n",
              "      <td>0.762350</td>\n",
              "      <td>1.000000</td>\n",
              "      <td>0.832547</td>\n",
              "    </tr>\n",
              "    <tr>\n",
              "      <th>population</th>\n",
              "      <td>0.218735</td>\n",
              "      <td>0.258067</td>\n",
              "      <td>0.253730</td>\n",
              "      <td>0.824904</td>\n",
              "      <td>0.832547</td>\n",
              "      <td>1.000000</td>\n",
              "    </tr>\n",
              "  </tbody>\n",
              "</table>\n",
              "</div>\n",
              "      <button class=\"colab-df-convert\" onclick=\"convertToInteractive('df-6233b642-869d-48c2-a651-a2b034dd231c')\"\n",
              "              title=\"Convert this dataframe to an interactive table.\"\n",
              "              style=\"display:none;\">\n",
              "        \n",
              "  <svg xmlns=\"http://www.w3.org/2000/svg\" height=\"24px\"viewBox=\"0 0 24 24\"\n",
              "       width=\"24px\">\n",
              "    <path d=\"M0 0h24v24H0V0z\" fill=\"none\"/>\n",
              "    <path d=\"M18.56 5.44l.94 2.06.94-2.06 2.06-.94-2.06-.94-.94-2.06-.94 2.06-2.06.94zm-11 1L8.5 8.5l.94-2.06 2.06-.94-2.06-.94L8.5 2.5l-.94 2.06-2.06.94zm10 10l.94 2.06.94-2.06 2.06-.94-2.06-.94-.94-2.06-.94 2.06-2.06.94z\"/><path d=\"M17.41 7.96l-1.37-1.37c-.4-.4-.92-.59-1.43-.59-.52 0-1.04.2-1.43.59L10.3 9.45l-7.72 7.72c-.78.78-.78 2.05 0 2.83L4 21.41c.39.39.9.59 1.41.59.51 0 1.02-.2 1.41-.59l7.78-7.78 2.81-2.81c.8-.78.8-2.07 0-2.86zM5.41 20L4 18.59l7.72-7.72 1.47 1.35L5.41 20z\"/>\n",
              "  </svg>\n",
              "      </button>\n",
              "      \n",
              "  <style>\n",
              "    .colab-df-container {\n",
              "      display:flex;\n",
              "      flex-wrap:wrap;\n",
              "      gap: 12px;\n",
              "    }\n",
              "\n",
              "    .colab-df-convert {\n",
              "      background-color: #E8F0FE;\n",
              "      border: none;\n",
              "      border-radius: 50%;\n",
              "      cursor: pointer;\n",
              "      display: none;\n",
              "      fill: #1967D2;\n",
              "      height: 32px;\n",
              "      padding: 0 0 0 0;\n",
              "      width: 32px;\n",
              "    }\n",
              "\n",
              "    .colab-df-convert:hover {\n",
              "      background-color: #E2EBFA;\n",
              "      box-shadow: 0px 1px 2px rgba(60, 64, 67, 0.3), 0px 1px 3px 1px rgba(60, 64, 67, 0.15);\n",
              "      fill: #174EA6;\n",
              "    }\n",
              "\n",
              "    [theme=dark] .colab-df-convert {\n",
              "      background-color: #3B4455;\n",
              "      fill: #D2E3FC;\n",
              "    }\n",
              "\n",
              "    [theme=dark] .colab-df-convert:hover {\n",
              "      background-color: #434B5C;\n",
              "      box-shadow: 0px 1px 3px 1px rgba(0, 0, 0, 0.15);\n",
              "      filter: drop-shadow(0px 1px 2px rgba(0, 0, 0, 0.3));\n",
              "      fill: #FFFFFF;\n",
              "    }\n",
              "  </style>\n",
              "\n",
              "      <script>\n",
              "        const buttonEl =\n",
              "          document.querySelector('#df-6233b642-869d-48c2-a651-a2b034dd231c button.colab-df-convert');\n",
              "        buttonEl.style.display =\n",
              "          google.colab.kernel.accessAllowed ? 'block' : 'none';\n",
              "\n",
              "        async function convertToInteractive(key) {\n",
              "          const element = document.querySelector('#df-6233b642-869d-48c2-a651-a2b034dd231c');\n",
              "          const dataTable =\n",
              "            await google.colab.kernel.invokeFunction('convertToInteractive',\n",
              "                                                     [key], {});\n",
              "          if (!dataTable) return;\n",
              "\n",
              "          const docLinkHtml = 'Like what you see? Visit the ' +\n",
              "            '<a target=\"_blank\" href=https://colab.research.google.com/notebooks/data_table.ipynb>data table notebook</a>'\n",
              "            + ' to learn more about interactive tables.';\n",
              "          element.innerHTML = '';\n",
              "          dataTable['output_type'] = 'display_data';\n",
              "          await google.colab.output.renderOutput(dataTable, element);\n",
              "          const docLink = document.createElement('div');\n",
              "          docLink.innerHTML = docLinkHtml;\n",
              "          element.appendChild(docLink);\n",
              "        }\n",
              "      </script>\n",
              "    </div>\n",
              "  </div>\n",
              "  "
            ]
          },
          "metadata": {},
          "execution_count": 13
        }
      ]
    },
    {
      "cell_type": "code",
      "source": [
        "from sklearn.model_selection import train_test_split\n",
        "import pandas as pd\n",
        "def data(df):\n",
        "  df.dropna(inplace=True)\n",
        "  global x_train, x_test, y_train, y_test\n",
        "  df_y = df[['emi_energy_2018']]\n",
        "  df_x = df.drop(labels='emi_energy_2018',axis=1)\n",
        "  x_train, x_test, y_train, y_test = train_test_split(df_x,df_y, test_size = 0.2, random_state=0)\n",
        "data(data_na)"
      ],
      "metadata": {
        "id": "XgSz32jT_F9a"
      },
      "execution_count": 14,
      "outputs": []
    },
    {
      "cell_type": "code",
      "source": [
        "import skopt\n",
        "from sklearn.model_selection import cross_val_score\n",
        "from skopt import gp_minimize\n",
        "\n",
        "def model_select (parametros):\n",
        "\n",
        "  if tipo_model== \"SVC\":\n",
        "   \n",
        "    model = SVC(kernel=parametros[0], gamma = parametros[1], C=parametros[2])\n",
        "    scores = cross_val_score(model, X=x_train, y = np.ravel(y_train),cv=5)\n",
        "    mean_score = np.mean(scores)\n",
        "\n",
        "  elif tipo_model== \"DT\":\n",
        "    \n",
        "    model = DecisionTreeClassifier(max_depth=parametros[0], min_samples_leaf = parametros[1],random_state=0)\n",
        "    scores = cross_val_score(model, X=x_train, y = np.ravel(y_train),cv=5)\n",
        "    mean_score = np.mean(scores)\n",
        "\n",
        "  elif tipo_model== \"RF\":\n",
        "    \n",
        "    model = RandomForestClassifier(n_estimators = parametros[0], criterion=parametros[1],\n",
        "                                  max_depth = parametros[2], min_samples_split = parametros[3], \n",
        "                                  min_samples_leaf=parametros[4], random_state=0)\n",
        "    scores = cross_val_score(model, X=x_train, y = np.ravel(y_train),cv=5)\n",
        "    mean_score = np.mean(scores)\n",
        "  \n",
        "  else:\n",
        "\n",
        "    print(\"Tipo model Invalido\")\n",
        "    return -1\n",
        "\n",
        "  return -mean_score"
      ],
      "metadata": {
        "id": "acdEE_x2_YNS"
      },
      "execution_count": null,
      "outputs": []
    },
    {
      "cell_type": "code",
      "source": [
        "from sklearn.impute import KNNImputer\n",
        "imputer = KNNImputer(n_neighbors=50, weights='distance')\n",
        "df_input=imputer.fit_transform()\n",
        "for i in [16,79,168,191,235,243,253,270,328]:\n",
        "  print(i,df_input[i,3])"
      ],
      "metadata": {
        "id": "zSoYm81ammZL",
        "outputId": "39d8c5f2-bd52-4005-a5eb-7bc887c7cef7",
        "colab": {
          "base_uri": "https://localhost:8080/"
        }
      },
      "execution_count": null,
      "outputs": [
        {
          "output_type": "stream",
          "name": "stdout",
          "text": [
            "16 2542.7395322952407\n",
            "79 2950.033352262312\n",
            "168 2153.1562855442207\n",
            "191 6056.506948246679\n",
            "235 1893.6007531819903\n",
            "243 2697.8258429079906\n",
            "253 2125.8647420045427\n",
            "270 1920.1775209412967\n",
            "328 2625.688158320953\n"
          ]
        }
      ]
    }
  ]
}